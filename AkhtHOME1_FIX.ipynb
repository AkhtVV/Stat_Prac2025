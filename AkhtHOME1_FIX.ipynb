{
  "nbformat": 4,
  "nbformat_minor": 0,
  "metadata": {
    "colab": {
      "provenance": [],
      "authorship_tag": "ABX9TyOS+cFmJ9CVUW2Y/Bnl/EWh"
    },
    "kernelspec": {
      "name": "python3",
      "display_name": "Python 3"
    },
    "language_info": {
      "name": "python"
    }
  },
  "cells": [
    {
      "cell_type": "markdown",
      "metadata": {
        "id": "sSos7q2_oBGj"
      },
      "source": [
        "## Problem 1"
      ]
    },
    {
      "cell_type": "markdown",
      "metadata": {
        "id": "NiX8ePp0oBGk"
      },
      "source": [
        "Make a tuple containing natural numbers, the square of which is a multiple of 3, 4, but not a multiple of 8 and not exceeding 12345."
      ]
    },
    {
      "cell_type": "code",
      "execution_count": 6,
      "metadata": {
        "id": "XmPHEnS9oBGk",
        "colab": {
          "base_uri": "https://localhost:8080/"
        },
        "outputId": "4fd16d12-6f89-4b28-ca6b-9a13d5d88319"
      },
      "outputs": [
        {
          "output_type": "stream",
          "name": "stdout",
          "text": [
            "(6, 18, 30, 42, 54, 66, 78, 90, 102)\n"
          ]
        }
      ],
      "source": [
        "my_tuple = tuple(x for x in range(0, int(12345**0.5)) if (x**2 % 3 == 0) and (x**2 % 4 == 0) and (x**2 % 8 != 0))\n",
        "print(my_tuple)"
      ]
    },
    {
      "cell_type": "markdown",
      "source": [
        "Comment: we use list comprehensions."
      ],
      "metadata": {
        "id": "Htqkj2Gdoch_"
      }
    },
    {
      "cell_type": "markdown",
      "metadata": {
        "id": "OZBeUyxcoBGk"
      },
      "source": [
        "## Problem 2"
      ]
    },
    {
      "cell_type": "markdown",
      "metadata": {
        "id": "zIfvg22noBGk"
      },
      "source": [
        "\n",
        "Write a function that takes a two-dimensional array and a string as input and returns an array rotated 90 degrees counterclockwise if the string 'left' was passed, and clockwise if the string 'right' was passed.\n",
        "\n",
        "Example for input: $\\begin{bmatrix} 1 & 2 & 3 \\\\ 4 & 5 & 6 \\\\ 7 & 8 & 9 \\end{bmatrix}$.\\\n",
        "If the string 'left' is passed, the function should return $\\begin{bmatrix} 3 & 6 & 9 \\\\ 2 & 5 & 8 \\\\ 1 & 4 & 7 \\end{bmatrix}$, and if the string 'right' is passed, the function should return $\\begin{bmatrix} 7 & 4 & 1 \\\\ 8 & 5 & 2 \\\\ 9 & 6 & 3 \\end{bmatrix}$."
      ]
    },
    {
      "cell_type": "code",
      "execution_count": 11,
      "metadata": {
        "id": "HNvy_cRjoBGk",
        "colab": {
          "base_uri": "https://localhost:8080/"
        },
        "outputId": "565379e8-ab5d-4d12-8da0-de2214fa6c4b"
      },
      "outputs": [
        {
          "output_type": "stream",
          "name": "stdout",
          "text": [
            "Original Matrix:\n",
            "[1, 2, 3]\n",
            "[4, 5, 6]\n",
            "[7, 8, 9]\n",
            "\n",
            "Rotated left:\n",
            "[3, 6, 9]\n",
            "[2, 5, 8]\n",
            "[1, 4, 7]\n",
            "\n",
            "Rotated right:\n",
            "[7, 4, 1]\n",
            "[8, 5, 2]\n",
            "[9, 6, 3]\n"
          ]
        }
      ],
      "source": [
        "def rotate_matrix(matrix, direction):\n",
        "    if direction == 'right':\n",
        "        return [list(row) for row in zip(*matrix[::-1])]\n",
        "    if direction == 'left':\n",
        "        return [list(row) for row in zip(*matrix)][::-1]\n",
        "#matrix[::-1] - строки в обратном порядке, zip объединяет элементы из каждой строки в новые кортежи\n",
        "matrix = [[1, 2, 3], [4, 5, 6],[7, 8, 9]]\n",
        "\n",
        "rotated_left = rotate_matrix(matrix, 'left')\n",
        "rotated_right = rotate_matrix(matrix, 'right')\n",
        "\n",
        "print(\"Original Matrix:\")\n",
        "for row in matrix:\n",
        "    print(row)\n",
        "\n",
        "print(\"\\nRotated left:\")\n",
        "for row in rotated_left:\n",
        "    print(row)\n",
        "\n",
        "print(\"\\nRotated right:\")\n",
        "for row in rotated_right:\n",
        "    print(row)"
      ]
    },
    {
      "cell_type": "markdown",
      "metadata": {
        "id": "_dY-PFlCoBGk"
      },
      "source": [
        "## Problem 3"
      ]
    },
    {
      "cell_type": "markdown",
      "metadata": {
        "id": "3CaIwcm0oBGk"
      },
      "source": [
        "Write a function that takes a string as input and returns a dictionary containing the number of occurrences of each character in the string.\n",
        "\n",
        "Example for the string 'hello, world!': {'h': 1, 'e': 1, 'l': 3, 'o': 2, ',': 1, ' ': 1, 'w': 1, 'r': 1, 'd': 1, '!': 1}."
      ]
    },
    {
      "cell_type": "code",
      "execution_count": null,
      "metadata": {
        "id": "rlSbHusZoBGk",
        "colab": {
          "base_uri": "https://localhost:8080/"
        },
        "outputId": "1e3a1705-7e86-4269-b2d7-06eadb6c0b97"
      },
      "outputs": [
        {
          "output_type": "stream",
          "name": "stdout",
          "text": [
            "{'h': 1, 'e': 1, 'l': 3, 'o': 2, ',': 1, ' ': 1, 'w': 1, 'r': 1, 'd': 1, '!': 1}\n"
          ]
        }
      ],
      "source": [
        "def count_characters(input_string):\n",
        "  d = {list(input_string)[i]: input_string.count(list(input_string)[i]) for i in range (len(input_string))}\n",
        "  return d\n",
        "#Example\n",
        "string = 'hello, world!'\n",
        "print(count_characters(string))"
      ]
    },
    {
      "cell_type": "markdown",
      "metadata": {
        "id": "KBGJ7PeboBGk"
      },
      "source": [
        "## Problem 4"
      ]
    },
    {
      "cell_type": "markdown",
      "metadata": {
        "id": "XS4Seqa9oBGk"
      },
      "source": [
        "### Implementing a Library Management System\n",
        "\n",
        "#### Description\n",
        "\n",
        "You are required to design and implement a system for managing books and users in a library. The system should allow for the management of books (adding, deleting, searching by various criteria) and users (registration, deletion, searching), as well as tracking the history of interactions between them (issuing and returning books).\n",
        "\n",
        "#### Tasks\n",
        "\n",
        "1. **`Book` Class**:\n",
        "   - Attributes: title, author, year of publication, ISBN, number of copies.\n",
        "   - Methods: constructor, methods to get information about the book, method to change the number of copies (when issuing and returning books).\n",
        "\n",
        "2. **`User` Class**:\n",
        "   - Attributes: user name, library card number, list of borrowed books.\n",
        "   - Methods: constructor, methods for user registration, methods for adding and removing books from the borrowed list.\n",
        "\n",
        "3. **`Library` Class**:\n",
        "   - Attributes: list of books, list of users, transaction history (who, when, which book was borrowed and returned).\n",
        "   - Methods: constructor, methods for adding and deleting books and users, methods for issuing and returning books, searching for books and users by various criteria, method to display the transaction history.\n",
        "\n",
        "#### Assignment\n",
        "\n",
        "1. Implement the `Book`, `User`, and `Library` classes with the specified attributes and methods.\n",
        "2. Create several books and users, and add them to the library system.\n",
        "3. Implement scenarios for issuing books to users and their return.\n",
        "4. Display the transaction history to show how books were issued and returned.\n"
      ]
    },
    {
      "cell_type": "code",
      "source": [
        "class Book:\n",
        "    def __init__(self, title, author, year, isbn, copies):\n",
        "        self.title = title\n",
        "        self.author = author\n",
        "        self.year = year\n",
        "        self.isbn = isbn\n",
        "        self.copies = copies\n",
        "\n",
        "    def get_info(self):\n",
        "        return f\"{self.title}, {self.author}, {self.year}, {self.isbn}, {self.copies}\"\n",
        "\n",
        "    def change_copies(self, count):\n",
        "        self.copies += count\n",
        "\n",
        "\n",
        "class User:\n",
        "    def __init__(self, name, id):\n",
        "        self.user_name = name\n",
        "        self.library_card_number = id\n",
        "        self.list_of_borrowed_books = []\n",
        "\n",
        "    def register(self):\n",
        "        return f\"User {self.user_name} registered with card number {self.library_card_number}.\"\n",
        "\n",
        "    def borrow_book(self, book):\n",
        "        if book.copies > 0:\n",
        "            self.list_of_borrowed_books.append(book)\n",
        "            book.change_copies(-1)\n",
        "            return f\"User {self.user_name} borrowed the book: '{book.title}'.\"\n",
        "        else:\n",
        "            return f\"User {self.user_name} could not take the book: '{book.title}', because its copies were out.\"\n",
        "\n",
        "    def return_book(self, book):\n",
        "        if book in self.list_of_borrowed_books:\n",
        "            self.list_of_borrowed_books.remove(book)\n",
        "            book.change_copies(1)\n",
        "            return f\"User {self.user_name} returned the book: '{book.title}'.\"\n",
        "        else:\n",
        "            return f\"User {self.user_name} tried to return the book: '{book.title}' not from his list!\"\n",
        "\n",
        "\n",
        "class Library:\n",
        "    def __init__(self):\n",
        "        self.list_books = []\n",
        "        self.list_users = []\n",
        "        self.list_transaction_history = []\n",
        "\n",
        "    def add_book(self, book):\n",
        "        self.list_books.append(book)\n",
        "        return f\"The book '{book.title}' was successfully added to the library.\"\n",
        "\n",
        "    def delete_book(self, isbn):\n",
        "        for book in self.list_books:\n",
        "            if book.isbn == isbn:\n",
        "                self.list_books.remove(book)\n",
        "                return f\"The book '{book.title}' removed from the library.\"\n",
        "        return \"Book not found.\"\n",
        "\n",
        "    def add_user(self, user):\n",
        "        self.list_users.append(user)\n",
        "        return f\"User {user.user_name} was successfully added to the library.\"\n",
        "\n",
        "    def delete_user(self, id):\n",
        "        for user in self.list_users:\n",
        "            if user.library_card_number == id:\n",
        "                self.list_users.remove(user)\n",
        "                return f\"User {user.user_name} removed from the library.\"\n",
        "        return \"User not found.\"\n",
        "\n",
        "    def search_books(self, title=None, author=None):\n",
        "        results = []\n",
        "        for book in self.list_books:\n",
        "            if (title and title.lower() in book.title.lower()) or (author and author.lower() in book.author.lower()):\n",
        "                results.append(book.get_info())\n",
        "        return results\n",
        "\n",
        "    def search_users(self, name=None):\n",
        "        results = []\n",
        "        for user in self.list_users:\n",
        "            if name and name.lower() in user.user_name.lower():\n",
        "                results.append({'Name of user': user.user_name, 'Library card number': user.library_card_number})\n",
        "        return results\n",
        "\n",
        "    def display_transaction_history(self):\n",
        "        return self.list_transaction_history\n",
        "#Example\n",
        "\n",
        "library = Library()\n",
        "\n",
        "\n",
        "book1 = Book(\"The Terror\", \"Dan Simmons\", 2007, \"9780316017442\", 5)\n",
        "book2 = Book(\"Alice's Adventures in Wonderland\", \"Lewis Carroll\", 1865, \"12345678910111213\", 8)\n",
        "book3 = Book(\"A Game of Thrones\", \"George Martin\", 1996, \"0553103547\", 1)\n",
        "\n",
        "\n",
        "print(library.add_book(book1))\n",
        "print(library.add_book(book2))\n",
        "print(library.add_book(book3))\n",
        "\n",
        "\n",
        "user1 = User(\"Oleg\", \"065\")\n",
        "user2 = User(\"Anton\", \"066\")\n",
        "user3 = User(\"Alex\", \"067\")\n",
        "\n",
        "\n",
        "print(library.add_user(user1))\n",
        "print(library.add_user(user2))\n",
        "print(library.add_user(user3))\n",
        "\n",
        "\n",
        "print(user1.borrow_book(book1))\n",
        "print(user2.borrow_book(book2))\n",
        "print(user3.borrow_book(book3))\n",
        "\n",
        "# Возврат книг\n",
        "print(user1.return_book(book1))"
      ],
      "metadata": {
        "colab": {
          "base_uri": "https://localhost:8080/"
        },
        "id": "pGJXVmBqAxFq",
        "outputId": "06499e88-2ae8-42b6-efc8-0aabb7191c3b"
      },
      "execution_count": null,
      "outputs": [
        {
          "output_type": "stream",
          "name": "stdout",
          "text": [
            "The book 'The Terror' was successfully added to the library.\n",
            "The book 'Alice's Adventures in Wonderland' was successfully added to the library.\n",
            "The book 'A Game of Thrones' was successfully added to the library.\n",
            "User Oleg was successfully added to the library.\n",
            "User Anton was successfully added to the library.\n",
            "User Alex was successfully added to the library.\n",
            "User Oleg borrowed the book: 'The Terror'.\n",
            "User Anton borrowed the book: 'Alice's Adventures in Wonderland'.\n",
            "User Alex borrowed the book: 'A Game of Thrones'.\n",
            "User Oleg returned the book: 'The Terror'.\n"
          ]
        }
      ]
    },
    {
      "cell_type": "markdown",
      "metadata": {
        "id": "0c8zRbSIoBGl"
      },
      "source": [
        "## Problem 5*"
      ]
    },
    {
      "cell_type": "markdown",
      "metadata": {
        "id": "8ltdzRmOoBGl"
      },
      "source": [
        "Explain why list `b` changes after the execution of the following code:\n",
        "\n",
        "```python\n",
        "a = [1, 2, 3]\n",
        "b = a\n",
        "a[0] = 4\n",
        "print(b)\n",
        "```"
      ]
    },
    {
      "cell_type": "code",
      "source": [
        "a = [1, 2, 3]\n",
        "b = a\n",
        "a[0] = 4\n",
        "print(b)"
      ],
      "metadata": {
        "colab": {
          "base_uri": "https://localhost:8080/"
        },
        "id": "We8PnZiCKVyO",
        "outputId": "ed511b8a-d48a-4e0a-9ad0-702f32613f31"
      },
      "execution_count": null,
      "outputs": [
        {
          "output_type": "stream",
          "name": "stdout",
          "text": [
            "[4, 2, 3]\n"
          ]
        }
      ]
    },
    {
      "cell_type": "code",
      "source": [
        "a = [1, 2, 3]\n",
        "b = a.copy()\n",
        "a[0] = 4\n",
        "print(b)"
      ],
      "metadata": {
        "colab": {
          "base_uri": "https://localhost:8080/"
        },
        "id": "KYbxu3nsKVcG",
        "outputId": "05db5005-dd2d-4159-c8ef-6df51e598d8d"
      },
      "execution_count": null,
      "outputs": [
        {
          "output_type": "stream",
          "name": "stdout",
          "text": [
            "[1, 2, 3]\n"
          ]
        }
      ]
    },
    {
      "cell_type": "markdown",
      "source": [
        "Список a - это ссылка на область в памяти компьютера, где хранится его первый элемент, а также на следующий элемент. Поэтому, когда мы присвоили списку b список a, то на самом деле присвоили ему ссылку на первый элемент — по сути, сделав их одним списком."
      ],
      "metadata": {
        "id": "DkN2nMbpLyQ-"
      }
    },
    {
      "cell_type": "markdown",
      "metadata": {
        "id": "TmXLkc_foBGl"
      },
      "source": [
        "## Problem 6*"
      ]
    },
    {
      "cell_type": "markdown",
      "metadata": {
        "id": "Gn0ibiVCoBGl"
      },
      "source": [
        "Let\n",
        "$$A = \\sum_{i=1}^{10000} \\frac{1}{i^2},\\quad B=\\sum_{i=10000}^{1} \\frac{1}{i^2}.$$\n",
        "Calculate the values of $A$ and $B$ and compare them. What do you observe? Explain why this happens. What is the best way to calculate the value of $\\sum\\limits_{i=1}^{10000} \\dfrac{1}{i^2}$?"
      ]
    },
    {
      "cell_type": "code",
      "execution_count": null,
      "metadata": {
        "id": "3q93uGqFoBGl",
        "colab": {
          "base_uri": "https://localhost:8080/"
        },
        "outputId": "44db44bf-5dc8-4845-af8c-701308c91894"
      },
      "outputs": [
        {
          "output_type": "stream",
          "name": "stdout",
          "text": [
            "A = 1.6439345666815615\n",
            "B = 1.6439345666815597\n",
            "A - B = 1.7763568394002505e-15\n"
          ]
        }
      ],
      "source": [
        "A = sum(1 / i**2 for i in range(1, 1001))\n",
        "print(\"A =\", A)\n",
        "B = sum(1 /i**2 for i in range(1000, 0, -1))\n",
        "print(\"B =\", B)\n",
        "print(\"A - B =\", A-B)\n"
      ]
    },
    {
      "cell_type": "markdown",
      "source": [
        "Число с плавающей точкой состоит из:знака числа (знака мантиссы), мантиссы, (выражающей значение числа без учета порядка), порядка (целого числа со знаком или без знака). Хранение осуществляется в нормализованной форме, исключающей неоднозначную запись чисел. В результате выполнения действий с числами с плавающей точкой, результат может оказаться (и обычно оказывается) неточным. В лучшем случае такая неточность связана с округлением результата до подходящего машинно-представимого числа. В этом лучшем случае относительная ошибка ограничена машинным эпсилон. Нам надо понять, что \"точнее\" - начать суммировать с \"маленьких\" чисел или с \"больших\". Предположу, что точнее будет начать суммирование с маленьких, поскольку мы сохраним их мантису, то есть вариант B лучше.\n"
      ],
      "metadata": {
        "id": "OxmPW4WAPwG3"
      }
    },
    {
      "cell_type": "code",
      "source": [],
      "metadata": {
        "id": "6uyPGGwPVIDI"
      },
      "execution_count": null,
      "outputs": []
    }
  ]
}